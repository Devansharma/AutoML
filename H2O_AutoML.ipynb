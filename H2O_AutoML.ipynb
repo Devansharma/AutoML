{
  "nbformat": 4,
  "nbformat_minor": 0,
  "metadata": {
    "colab": {
      "name": "H2O AutoML.ipynb",
      "provenance": [],
      "authorship_tag": "ABX9TyPmre0l3ypQ+6NqW725Ewfk",
      "include_colab_link": true
    },
    "kernelspec": {
      "name": "python3",
      "display_name": "Python 3"
    },
    "accelerator": "GPU"
  },
  "cells": [
    {
      "cell_type": "markdown",
      "metadata": {
        "id": "view-in-github",
        "colab_type": "text"
      },
      "source": [
        "<a href=\"https://colab.research.google.com/github/Devansharma/AutoML/blob/master/H2O_AutoML.ipynb\" target=\"_parent\"><img src=\"https://colab.research.google.com/assets/colab-badge.svg\" alt=\"Open In Colab\"/></a>"
      ]
    },
    {
      "cell_type": "code",
      "metadata": {
        "id": "5xaR6SlYerHO",
        "colab_type": "code",
        "colab": {}
      },
      "source": [
        "!apt-get install default-jre\n",
        "!java -version"
      ],
      "execution_count": 0,
      "outputs": []
    },
    {
      "cell_type": "code",
      "metadata": {
        "id": "w66nO6xEe_4g",
        "colab_type": "code",
        "colab": {}
      },
      "source": [
        "!pip install h2o"
      ],
      "execution_count": 0,
      "outputs": []
    },
    {
      "cell_type": "code",
      "metadata": {
        "id": "N13hs3j4fTtr",
        "colab_type": "code",
        "colab": {
          "base_uri": "https://localhost:8080/",
          "height": 545
        },
        "outputId": "1985f31a-c3b6-4496-8004-c27d55eab541"
      },
      "source": [
        "import h2o\n",
        "h2o.init()"
      ],
      "execution_count": 5,
      "outputs": [
        {
          "output_type": "stream",
          "text": [
            "Checking whether there is an H2O instance running at http://localhost:54321 ..... not found.\n",
            "Attempting to start a local H2O server...\n",
            "  Java Version: openjdk version \"11.0.6\" 2020-01-14; OpenJDK Runtime Environment (build 11.0.6+10-post-Ubuntu-1ubuntu118.04.1); OpenJDK 64-Bit Server VM (build 11.0.6+10-post-Ubuntu-1ubuntu118.04.1, mixed mode, sharing)\n",
            "  Starting server from /usr/local/lib/python3.6/dist-packages/h2o/backend/bin/h2o.jar\n",
            "  Ice root: /tmp/tmpif6ebdq6\n",
            "  JVM stdout: /tmp/tmpif6ebdq6/h2o_unknownUser_started_from_python.out\n",
            "  JVM stderr: /tmp/tmpif6ebdq6/h2o_unknownUser_started_from_python.err\n",
            "  Server is running at http://127.0.0.1:54321\n",
            "Connecting to H2O server at http://127.0.0.1:54321 ... successful.\n"
          ],
          "name": "stdout"
        },
        {
          "output_type": "display_data",
          "data": {
            "text/html": [
              "<div style=\"overflow:auto\"><table style=\"width:50%\"><tr><td>H2O_cluster_uptime:</td>\n",
              "<td>02 secs</td></tr>\n",
              "<tr><td>H2O_cluster_timezone:</td>\n",
              "<td>Etc/UTC</td></tr>\n",
              "<tr><td>H2O_data_parsing_timezone:</td>\n",
              "<td>UTC</td></tr>\n",
              "<tr><td>H2O_cluster_version:</td>\n",
              "<td>3.30.0.1</td></tr>\n",
              "<tr><td>H2O_cluster_version_age:</td>\n",
              "<td>12 hours and 58 minutes </td></tr>\n",
              "<tr><td>H2O_cluster_name:</td>\n",
              "<td>H2O_from_python_unknownUser_nwoyz3</td></tr>\n",
              "<tr><td>H2O_cluster_total_nodes:</td>\n",
              "<td>1</td></tr>\n",
              "<tr><td>H2O_cluster_free_memory:</td>\n",
              "<td>3.180 Gb</td></tr>\n",
              "<tr><td>H2O_cluster_total_cores:</td>\n",
              "<td>2</td></tr>\n",
              "<tr><td>H2O_cluster_allowed_cores:</td>\n",
              "<td>2</td></tr>\n",
              "<tr><td>H2O_cluster_status:</td>\n",
              "<td>accepting new members, healthy</td></tr>\n",
              "<tr><td>H2O_connection_url:</td>\n",
              "<td>http://127.0.0.1:54321</td></tr>\n",
              "<tr><td>H2O_connection_proxy:</td>\n",
              "<td>{\"http\": null, \"https\": null}</td></tr>\n",
              "<tr><td>H2O_internal_security:</td>\n",
              "<td>False</td></tr>\n",
              "<tr><td>H2O_API_Extensions:</td>\n",
              "<td>Amazon S3, XGBoost, Algos, AutoML, Core V3, TargetEncoder, Core V4</td></tr>\n",
              "<tr><td>Python_version:</td>\n",
              "<td>3.6.9 final</td></tr></table></div>"
            ],
            "text/plain": [
              "--------------------------  ------------------------------------------------------------------\n",
              "H2O_cluster_uptime:         02 secs\n",
              "H2O_cluster_timezone:       Etc/UTC\n",
              "H2O_data_parsing_timezone:  UTC\n",
              "H2O_cluster_version:        3.30.0.1\n",
              "H2O_cluster_version_age:    12 hours and 58 minutes\n",
              "H2O_cluster_name:           H2O_from_python_unknownUser_nwoyz3\n",
              "H2O_cluster_total_nodes:    1\n",
              "H2O_cluster_free_memory:    3.180 Gb\n",
              "H2O_cluster_total_cores:    2\n",
              "H2O_cluster_allowed_cores:  2\n",
              "H2O_cluster_status:         accepting new members, healthy\n",
              "H2O_connection_url:         http://127.0.0.1:54321\n",
              "H2O_connection_proxy:       {\"http\": null, \"https\": null}\n",
              "H2O_internal_security:      False\n",
              "H2O_API_Extensions:         Amazon S3, XGBoost, Algos, AutoML, Core V3, TargetEncoder, Core V4\n",
              "Python_version:             3.6.9 final\n",
              "--------------------------  ------------------------------------------------------------------"
            ]
          },
          "metadata": {
            "tags": []
          }
        }
      ]
    },
    {
      "cell_type": "code",
      "metadata": {
        "id": "nBWdXw6HfY7m",
        "colab_type": "code",
        "colab": {}
      },
      "source": [
        "from h2o.automl import H2OAutoML"
      ],
      "execution_count": 0,
      "outputs": []
    },
    {
      "cell_type": "code",
      "metadata": {
        "id": "AwCKpchHfq90",
        "colab_type": "code",
        "colab": {
          "base_uri": "https://localhost:8080/",
          "height": 34
        },
        "outputId": "d02b3a36-82e7-44c1-c816-58cac1b89e62"
      },
      "source": [
        "df = h2o.import_file('https://raw.githubusercontent.com/srivatsan88/YouTubeLI/master/dataset/WA_Fn-UseC_-Telco-Customer-Churn.csv')"
      ],
      "execution_count": 7,
      "outputs": [
        {
          "output_type": "stream",
          "text": [
            "Parse progress: |█████████████████████████████████████████████████████████| 100%\n"
          ],
          "name": "stdout"
        }
      ]
    },
    {
      "cell_type": "code",
      "metadata": {
        "id": "3yAtzLcLf4bJ",
        "colab_type": "code",
        "colab": {
          "base_uri": "https://localhost:8080/",
          "height": 374
        },
        "outputId": "3b5722f9-a72c-4a5e-ddab-98ba0f6e30d4"
      },
      "source": [
        "df.types"
      ],
      "execution_count": 8,
      "outputs": [
        {
          "output_type": "execute_result",
          "data": {
            "text/plain": [
              "{'Churn': 'enum',\n",
              " 'Contract': 'enum',\n",
              " 'Dependents': 'enum',\n",
              " 'DeviceProtection': 'enum',\n",
              " 'InternetService': 'enum',\n",
              " 'MonthlyCharges': 'real',\n",
              " 'MultipleLines': 'enum',\n",
              " 'OnlineBackup': 'enum',\n",
              " 'OnlineSecurity': 'enum',\n",
              " 'PaperlessBilling': 'enum',\n",
              " 'Partner': 'enum',\n",
              " 'PaymentMethod': 'enum',\n",
              " 'PhoneService': 'enum',\n",
              " 'SeniorCitizen': 'int',\n",
              " 'StreamingMovies': 'enum',\n",
              " 'StreamingTV': 'enum',\n",
              " 'TechSupport': 'enum',\n",
              " 'TotalCharges': 'real',\n",
              " 'customerID': 'string',\n",
              " 'gender': 'enum',\n",
              " 'tenure': 'int'}"
            ]
          },
          "metadata": {
            "tags": []
          },
          "execution_count": 8
        }
      ]
    },
    {
      "cell_type": "code",
      "metadata": {
        "id": "tb_ZE8PJf6yq",
        "colab_type": "code",
        "colab": {
          "base_uri": "https://localhost:8080/",
          "height": 655
        },
        "outputId": "b2d84308-1d9b-4b98-d693-5bedcb5452e7"
      },
      "source": [
        "df.describe()"
      ],
      "execution_count": 9,
      "outputs": [
        {
          "output_type": "stream",
          "text": [
            "Rows:7043\n",
            "Cols:21\n",
            "\n",
            "\n"
          ],
          "name": "stdout"
        },
        {
          "output_type": "display_data",
          "data": {
            "text/html": [
              "<table>\n",
              "<thead>\n",
              "<tr><th>       </th><th>customerID  </th><th>gender  </th><th>SeniorCitizen     </th><th>Partner  </th><th>Dependents  </th><th>tenure            </th><th>PhoneService  </th><th>MultipleLines   </th><th>InternetService  </th><th>OnlineSecurity  </th><th>OnlineBackup  </th><th>DeviceProtection  </th><th>TechSupport  </th><th>StreamingTV  </th><th>StreamingMovies  </th><th>Contract      </th><th>PaperlessBilling  </th><th>PaymentMethod            </th><th>MonthlyCharges    </th><th>TotalCharges     </th><th>Churn  </th></tr>\n",
              "</thead>\n",
              "<tbody>\n",
              "<tr><td>type   </td><td>string      </td><td>enum    </td><td>int               </td><td>enum     </td><td>enum        </td><td>int               </td><td>enum          </td><td>enum            </td><td>enum             </td><td>enum            </td><td>enum          </td><td>enum              </td><td>enum         </td><td>enum         </td><td>enum             </td><td>enum          </td><td>enum              </td><td>enum                     </td><td>real              </td><td>real             </td><td>enum   </td></tr>\n",
              "<tr><td>mins   </td><td>NaN         </td><td>        </td><td>0.0               </td><td>         </td><td>            </td><td>0.0               </td><td>              </td><td>                </td><td>                 </td><td>                </td><td>              </td><td>                  </td><td>             </td><td>             </td><td>                 </td><td>              </td><td>                  </td><td>                         </td><td>18.25             </td><td>18.8             </td><td>       </td></tr>\n",
              "<tr><td>mean   </td><td>NaN         </td><td>        </td><td>0.1621468124378816</td><td>         </td><td>            </td><td>32.37114865824223 </td><td>              </td><td>                </td><td>                 </td><td>                </td><td>              </td><td>                  </td><td>             </td><td>             </td><td>                 </td><td>              </td><td>                  </td><td>                         </td><td>64.76169246059916 </td><td>2283.300440841865</td><td>       </td></tr>\n",
              "<tr><td>maxs   </td><td>NaN         </td><td>        </td><td>1.0               </td><td>         </td><td>            </td><td>72.0              </td><td>              </td><td>                </td><td>                 </td><td>                </td><td>              </td><td>                  </td><td>             </td><td>             </td><td>                 </td><td>              </td><td>                  </td><td>                         </td><td>118.75            </td><td>8684.8           </td><td>       </td></tr>\n",
              "<tr><td>sigma  </td><td>NaN         </td><td>        </td><td>0.3686116056100131</td><td>         </td><td>            </td><td>24.559481023094456</td><td>              </td><td>                </td><td>                 </td><td>                </td><td>              </td><td>                  </td><td>             </td><td>             </td><td>                 </td><td>              </td><td>                  </td><td>                         </td><td>30.090047097678482</td><td>2266.771361883145</td><td>       </td></tr>\n",
              "<tr><td>zeros  </td><td>0           </td><td>        </td><td>5901              </td><td>         </td><td>            </td><td>11                </td><td>              </td><td>                </td><td>                 </td><td>                </td><td>              </td><td>                  </td><td>             </td><td>             </td><td>                 </td><td>              </td><td>                  </td><td>                         </td><td>0                 </td><td>0                </td><td>       </td></tr>\n",
              "<tr><td>missing</td><td>0           </td><td>0       </td><td>0                 </td><td>0        </td><td>0           </td><td>0                 </td><td>0             </td><td>0               </td><td>0                </td><td>0               </td><td>0             </td><td>0                 </td><td>0            </td><td>0            </td><td>0                </td><td>0             </td><td>0                 </td><td>0                        </td><td>0                 </td><td>11               </td><td>0      </td></tr>\n",
              "<tr><td>0      </td><td>7590-VHVEG  </td><td>Female  </td><td>0.0               </td><td>Yes      </td><td>No          </td><td>1.0               </td><td>No            </td><td>No phone service</td><td>DSL              </td><td>No              </td><td>Yes           </td><td>No                </td><td>No           </td><td>No           </td><td>No               </td><td>Month-to-month</td><td>Yes               </td><td>Electronic check         </td><td>29.85             </td><td>29.85            </td><td>No     </td></tr>\n",
              "<tr><td>1      </td><td>5575-GNVDE  </td><td>Male    </td><td>0.0               </td><td>No       </td><td>No          </td><td>34.0              </td><td>Yes           </td><td>No              </td><td>DSL              </td><td>Yes             </td><td>No            </td><td>Yes               </td><td>No           </td><td>No           </td><td>No               </td><td>One year      </td><td>No                </td><td>Mailed check             </td><td>56.95             </td><td>1889.5           </td><td>No     </td></tr>\n",
              "<tr><td>2      </td><td>3668-QPYBK  </td><td>Male    </td><td>0.0               </td><td>No       </td><td>No          </td><td>2.0               </td><td>Yes           </td><td>No              </td><td>DSL              </td><td>Yes             </td><td>Yes           </td><td>No                </td><td>No           </td><td>No           </td><td>No               </td><td>Month-to-month</td><td>Yes               </td><td>Mailed check             </td><td>53.85             </td><td>108.15           </td><td>Yes    </td></tr>\n",
              "<tr><td>3      </td><td>7795-CFOCW  </td><td>Male    </td><td>0.0               </td><td>No       </td><td>No          </td><td>45.0              </td><td>No            </td><td>No phone service</td><td>DSL              </td><td>Yes             </td><td>No            </td><td>Yes               </td><td>Yes          </td><td>No           </td><td>No               </td><td>One year      </td><td>No                </td><td>Bank transfer (automatic)</td><td>42.3              </td><td>1840.75          </td><td>No     </td></tr>\n",
              "<tr><td>4      </td><td>9237-HQITU  </td><td>Female  </td><td>0.0               </td><td>No       </td><td>No          </td><td>2.0               </td><td>Yes           </td><td>No              </td><td>Fiber optic      </td><td>No              </td><td>No            </td><td>No                </td><td>No           </td><td>No           </td><td>No               </td><td>Month-to-month</td><td>Yes               </td><td>Electronic check         </td><td>70.7              </td><td>151.65           </td><td>Yes    </td></tr>\n",
              "<tr><td>5      </td><td>9305-CDSKC  </td><td>Female  </td><td>0.0               </td><td>No       </td><td>No          </td><td>8.0               </td><td>Yes           </td><td>Yes             </td><td>Fiber optic      </td><td>No              </td><td>No            </td><td>Yes               </td><td>No           </td><td>Yes          </td><td>Yes              </td><td>Month-to-month</td><td>Yes               </td><td>Electronic check         </td><td>99.65             </td><td>820.5            </td><td>Yes    </td></tr>\n",
              "<tr><td>6      </td><td>1452-KIOVK  </td><td>Male    </td><td>0.0               </td><td>No       </td><td>Yes         </td><td>22.0              </td><td>Yes           </td><td>Yes             </td><td>Fiber optic      </td><td>No              </td><td>Yes           </td><td>No                </td><td>No           </td><td>Yes          </td><td>No               </td><td>Month-to-month</td><td>Yes               </td><td>Credit card (automatic)  </td><td>89.1              </td><td>1949.4           </td><td>No     </td></tr>\n",
              "<tr><td>7      </td><td>6713-OKOMC  </td><td>Female  </td><td>0.0               </td><td>No       </td><td>No          </td><td>10.0              </td><td>No            </td><td>No phone service</td><td>DSL              </td><td>Yes             </td><td>No            </td><td>No                </td><td>No           </td><td>No           </td><td>No               </td><td>Month-to-month</td><td>No                </td><td>Mailed check             </td><td>29.75             </td><td>301.9            </td><td>No     </td></tr>\n",
              "<tr><td>8      </td><td>7892-POOKP  </td><td>Female  </td><td>0.0               </td><td>Yes      </td><td>No          </td><td>28.0              </td><td>Yes           </td><td>Yes             </td><td>Fiber optic      </td><td>No              </td><td>No            </td><td>Yes               </td><td>Yes          </td><td>Yes          </td><td>Yes              </td><td>Month-to-month</td><td>Yes               </td><td>Electronic check         </td><td>104.8             </td><td>3046.05          </td><td>Yes    </td></tr>\n",
              "<tr><td>9      </td><td>6388-TABGU  </td><td>Male    </td><td>0.0               </td><td>No       </td><td>Yes         </td><td>62.0              </td><td>Yes           </td><td>No              </td><td>DSL              </td><td>Yes             </td><td>Yes           </td><td>No                </td><td>No           </td><td>No           </td><td>No               </td><td>One year      </td><td>No                </td><td>Bank transfer (automatic)</td><td>56.15             </td><td>3487.95          </td><td>No     </td></tr>\n",
              "</tbody>\n",
              "</table>"
            ]
          },
          "metadata": {
            "tags": []
          }
        }
      ]
    },
    {
      "cell_type": "code",
      "metadata": {
        "id": "UOoGmApsgclo",
        "colab_type": "code",
        "colab": {}
      },
      "source": [
        "train_data, test_data, valid_data = df.split_frame([.7, 0.15])"
      ],
      "execution_count": 0,
      "outputs": []
    },
    {
      "cell_type": "code",
      "metadata": {
        "id": "VdoKM1CKhBeU",
        "colab_type": "code",
        "colab": {
          "base_uri": "https://localhost:8080/",
          "height": 440
        },
        "outputId": "9d4b7aec-52f0-41dd-f83a-ce24f915b566"
      },
      "source": [
        "test_data"
      ],
      "execution_count": 11,
      "outputs": [
        {
          "output_type": "display_data",
          "data": {
            "text/html": [
              "<table>\n",
              "<thead>\n",
              "<tr><th>customerID  </th><th>gender  </th><th style=\"text-align: right;\">  SeniorCitizen</th><th>Partner  </th><th>Dependents  </th><th style=\"text-align: right;\">  tenure</th><th>PhoneService  </th><th>MultipleLines  </th><th>InternetService  </th><th>OnlineSecurity     </th><th>OnlineBackup       </th><th>DeviceProtection   </th><th>TechSupport        </th><th>StreamingTV        </th><th>StreamingMovies    </th><th>Contract      </th><th>PaperlessBilling  </th><th>PaymentMethod            </th><th style=\"text-align: right;\">  MonthlyCharges</th><th style=\"text-align: right;\">  TotalCharges</th><th>Churn  </th></tr>\n",
              "</thead>\n",
              "<tbody>\n",
              "<tr><td>8191-XWSZG  </td><td>Female  </td><td style=\"text-align: right;\">              0</td><td>No       </td><td>No          </td><td style=\"text-align: right;\">      52</td><td>Yes           </td><td>No             </td><td>No               </td><td>No internet service</td><td>No internet service</td><td>No internet service</td><td>No internet service</td><td>No internet service</td><td>No internet service</td><td>One year      </td><td>No                </td><td>Mailed check             </td><td style=\"text-align: right;\">           20.65</td><td style=\"text-align: right;\">       1022.95</td><td>No     </td></tr>\n",
              "<tr><td>8865-TNMNX  </td><td>Male    </td><td style=\"text-align: right;\">              0</td><td>Yes      </td><td>Yes         </td><td style=\"text-align: right;\">      10</td><td>Yes           </td><td>No             </td><td>DSL              </td><td>No                 </td><td>Yes                </td><td>No                 </td><td>No                 </td><td>No                 </td><td>No                 </td><td>One year      </td><td>No                </td><td>Mailed check             </td><td style=\"text-align: right;\">           49.55</td><td style=\"text-align: right;\">        475.7 </td><td>No     </td></tr>\n",
              "<tr><td>9867-JCZSP  </td><td>Female  </td><td style=\"text-align: right;\">              0</td><td>Yes      </td><td>Yes         </td><td style=\"text-align: right;\">      17</td><td>Yes           </td><td>No             </td><td>No               </td><td>No internet service</td><td>No internet service</td><td>No internet service</td><td>No internet service</td><td>No internet service</td><td>No internet service</td><td>One year      </td><td>No                </td><td>Mailed check             </td><td style=\"text-align: right;\">           20.75</td><td style=\"text-align: right;\">        418.25</td><td>No     </td></tr>\n",
              "<tr><td>3714-NTNFO  </td><td>Female  </td><td style=\"text-align: right;\">              0</td><td>No       </td><td>No          </td><td style=\"text-align: right;\">      49</td><td>Yes           </td><td>Yes            </td><td>Fiber optic      </td><td>No                 </td><td>No                 </td><td>No                 </td><td>No                 </td><td>No                 </td><td>Yes                </td><td>Month-to-month</td><td>Yes               </td><td>Electronic check         </td><td style=\"text-align: right;\">           84.5 </td><td style=\"text-align: right;\">       3906.7 </td><td>No     </td></tr>\n",
              "<tr><td>2954-PIBKO  </td><td>Female  </td><td style=\"text-align: right;\">              0</td><td>Yes      </td><td>Yes         </td><td style=\"text-align: right;\">      69</td><td>Yes           </td><td>Yes            </td><td>DSL              </td><td>Yes                </td><td>No                 </td><td>Yes                </td><td>Yes                </td><td>No                 </td><td>No                 </td><td>Two year      </td><td>Yes               </td><td>Credit card (automatic)  </td><td style=\"text-align: right;\">           64.15</td><td style=\"text-align: right;\">       4254.1 </td><td>No     </td></tr>\n",
              "<tr><td>7495-OOKFY  </td><td>Female  </td><td style=\"text-align: right;\">              1</td><td>Yes      </td><td>No          </td><td style=\"text-align: right;\">       8</td><td>Yes           </td><td>Yes            </td><td>Fiber optic      </td><td>No                 </td><td>Yes                </td><td>No                 </td><td>No                 </td><td>No                 </td><td>No                 </td><td>Month-to-month</td><td>Yes               </td><td>Credit card (automatic)  </td><td style=\"text-align: right;\">           80.65</td><td style=\"text-align: right;\">        633.3 </td><td>Yes    </td></tr>\n",
              "<tr><td>5954-BDFSG  </td><td>Female  </td><td style=\"text-align: right;\">              0</td><td>No       </td><td>No          </td><td style=\"text-align: right;\">      72</td><td>Yes           </td><td>Yes            </td><td>Fiber optic      </td><td>No                 </td><td>No                 </td><td>Yes                </td><td>Yes                </td><td>Yes                </td><td>Yes                </td><td>Two year      </td><td>Yes               </td><td>Credit card (automatic)  </td><td style=\"text-align: right;\">          107.5 </td><td style=\"text-align: right;\">       7853.7 </td><td>No     </td></tr>\n",
              "<tr><td>3410-YOQBQ  </td><td>Female  </td><td style=\"text-align: right;\">              0</td><td>No       </td><td>No          </td><td style=\"text-align: right;\">      31</td><td>Yes           </td><td>No             </td><td>DSL              </td><td>No                 </td><td>Yes                </td><td>Yes                </td><td>Yes                </td><td>Yes                </td><td>Yes                </td><td>Two year      </td><td>No                </td><td>Mailed check             </td><td style=\"text-align: right;\">           79.2 </td><td style=\"text-align: right;\">       2497.2 </td><td>No     </td></tr>\n",
              "<tr><td>9191-MYQKX  </td><td>Female  </td><td style=\"text-align: right;\">              0</td><td>Yes      </td><td>No          </td><td style=\"text-align: right;\">       7</td><td>Yes           </td><td>No             </td><td>Fiber optic      </td><td>No                 </td><td>No                 </td><td>Yes                </td><td>No                 </td><td>No                 </td><td>No                 </td><td>Month-to-month</td><td>Yes               </td><td>Bank transfer (automatic)</td><td style=\"text-align: right;\">           75.15</td><td style=\"text-align: right;\">        496.9 </td><td>Yes    </td></tr>\n",
              "<tr><td>0318-ZOPWS  </td><td>Female  </td><td style=\"text-align: right;\">              0</td><td>Yes      </td><td>No          </td><td style=\"text-align: right;\">      49</td><td>Yes           </td><td>No             </td><td>No               </td><td>No internet service</td><td>No internet service</td><td>No internet service</td><td>No internet service</td><td>No internet service</td><td>No internet service</td><td>Two year      </td><td>Yes               </td><td>Bank transfer (automatic)</td><td style=\"text-align: right;\">           20.15</td><td style=\"text-align: right;\">        973.35</td><td>No     </td></tr>\n",
              "</tbody>\n",
              "</table>"
            ]
          },
          "metadata": {
            "tags": []
          }
        },
        {
          "output_type": "execute_result",
          "data": {
            "text/plain": [
              ""
            ]
          },
          "metadata": {
            "tags": []
          },
          "execution_count": 11
        }
      ]
    },
    {
      "cell_type": "code",
      "metadata": {
        "id": "lTC6c4dwhFIk",
        "colab_type": "code",
        "colab": {}
      },
      "source": [
        "y = \"Churn\"\n",
        "x = df.columns\n",
        "x.remove(y)\n",
        "x.remove(\"customerID\")"
      ],
      "execution_count": 0,
      "outputs": []
    },
    {
      "cell_type": "code",
      "metadata": {
        "id": "Bklk3_eihYNQ",
        "colab_type": "code",
        "colab": {}
      },
      "source": [
        "aml = H2OAutoML(max_models= 10, seed=11, verbosity=\"info\", nfolds=0)"
      ],
      "execution_count": 0,
      "outputs": []
    },
    {
      "cell_type": "code",
      "metadata": {
        "id": "ovZs6BuLhzvP",
        "colab_type": "code",
        "colab": {
          "base_uri": "https://localhost:8080/",
          "height": 1000
        },
        "outputId": "ba7f83d0-bdc3-481e-9709-ac7305b47a42"
      },
      "source": [
        "aml.train(x=x, y=y, training_frame =train_data, validation_frame= valid_data)"
      ],
      "execution_count": 14,
      "outputs": [
        {
          "output_type": "stream",
          "text": [
            "AutoML progress: |\n",
            "09:47:12.389: Project: AutoML_20200404_94712385\n",
            "09:47:12.390: Cross-validation disabled by user: no fold column nor nfolds > 1.\n",
            "09:47:12.390: Setting stopping tolerance adaptively based on the training frame: 0.01418475390906605\n",
            "09:47:12.391: Build control seed: 11\n",
            "09:47:12.391: Since cross-validation is disabled, and no leaderboard frame was provided, automatically split the training data into training and leaderboard frames in the ratio 90/10\n",
            "09:47:12.484: training frame: Frame key: automl_training_py_2_sid_9eab    cols: 21    rows: 4477  chunks: 8    size: 295907  checksum: -2192644676007967458\n",
            "09:47:12.484: validation frame: Frame key: py_4_sid_9eab    cols: 21    rows: 1080  chunks: 8    size: 139725  checksum: -6834817227909036796\n",
            "09:47:12.495: leaderboard frame: Frame key: automl_leaderboard_py_2_sid_9eab    cols: 21    rows: 493  chunks: 8    size: 125122  checksum: -4365691565826424589\n",
            "09:47:12.495: blending frame: NULL\n",
            "09:47:12.495: response column: Churn\n",
            "09:47:12.495: fold column: null\n",
            "09:47:12.495: weights column: null\n",
            "09:47:12.530: Loading execution steps: [{XGBoost : defaults}, {GLM : defaults}, {DRF : [def_1]}, {GBM : defaults}, {DeepLearning : defaults}, {DRF : [XRT]}, {XGBoost : grids}, {GBM : grids}, {DeepLearning : grids}, {GBM : [lr_annealing]}, {XGBoost : [lr_search]}, {StackedEnsemble : defaults}]\n",
            "09:47:12.547: AutoML job created: 2020.04.04 09:47:12.385\n",
            "09:47:12.551: AutoML build started: 2020.04.04 09:47:12.548\n",
            "09:47:12.561: AutoML: starting XGBoost_1_AutoML_20200404_094712 model training\n",
            "\n",
            "█\n",
            "09:47:16.17: New leader: XGBoost_1_AutoML_20200404_094712, auc: 0.8055438404116233\n",
            "09:47:16.18: AutoML: starting XGBoost_2_AutoML_20200404_094712 model training\n",
            "\n",
            "█\n",
            "09:47:18.66: AutoML: starting XGBoost_3_AutoML_20200404_094712 model training\n",
            "\n",
            "█\n",
            "09:47:20.87: New leader: XGBoost_3_AutoML_20200404_094712, auc: 0.808696385643794\n",
            "09:47:20.96: AutoML: starting GLM_1_AutoML_20200404_094712 model training\n",
            "\n",
            "█\n",
            "09:47:22.126: New leader: GLM_1_AutoML_20200404_094712, auc: 0.8142739656699423\n",
            "09:47:22.135: AutoML: starting DRF_1_AutoML_20200404_094712 model training\n",
            "\n",
            "█████\n",
            "09:47:27.196: New leader: DRF_1_AutoML_20200404_094712, auc: 0.816488127873139\n",
            "09:47:27.197: AutoML: starting GBM_1_AutoML_20200404_094712 model training\n",
            "09:47:29.233: New leader: GBM_1_AutoML_20200404_094712, auc: 0.823309856184893\n",
            "09:47:29.233: AutoML: starting GBM_2_AutoML_20200404_094712 model training\n",
            "\n",
            "█\n",
            "09:47:31.276: AutoML: starting GBM_3_AutoML_20200404_094712 model training\n",
            "\n",
            "█\n",
            "09:47:33.311: AutoML: starting GBM_4_AutoML_20200404_094712 model training\n",
            "\n",
            "██\n",
            "09:47:35.360: AutoML: starting GBM_5_AutoML_20200404_094712 model training\n",
            "\n",
            "███████████████████████████████████████████| 100%\n",
            "\n",
            "09:47:37.383: Cross-validation is disabled by the user and no blending frame was provided; skipping StackedEnsemble 'best'.\n",
            "09:47:37.386: Cross-validation is disabled by the user and no blending frame was provided; skipping StackedEnsemble 'all'.\n",
            "09:47:37.386: Actual modeling steps: [{XGBoost : [def_1 (10), def_2 (10), def_3 (10)]}, {GLM : [def_1 (10)]}, {DRF : [def_1 (10)]}, {GBM : [def_1 (10), def_2 (10), def_3 (10), def_4 (10), def_5 (10)]}]\n",
            "09:47:37.386: AutoML build stopped: 2020.04.04 09:47:37.386\n",
            "09:47:37.386: AutoML build done: built 10 models\n",
            "09:47:37.386: AutoML duration: 24.838 sec\n",
            "\n"
          ],
          "name": "stdout"
        }
      ]
    },
    {
      "cell_type": "code",
      "metadata": {
        "id": "MZs06EoVimWk",
        "colab_type": "code",
        "colab": {}
      },
      "source": [
        "lb = aml.leaderboard"
      ],
      "execution_count": 0,
      "outputs": []
    },
    {
      "cell_type": "code",
      "metadata": {
        "id": "3KXnu0QIjUEB",
        "colab_type": "code",
        "colab": {
          "base_uri": "https://localhost:8080/",
          "height": 250
        },
        "outputId": "f3ff29bd-84b5-45ad-94f1-0763574eea26"
      },
      "source": [
        "lb.head()"
      ],
      "execution_count": 21,
      "outputs": [
        {
          "output_type": "display_data",
          "data": {
            "text/html": [
              "<table>\n",
              "<thead>\n",
              "<tr><th>model_id                        </th><th style=\"text-align: right;\">     auc</th><th style=\"text-align: right;\">  logloss</th><th style=\"text-align: right;\">   aucpr</th><th style=\"text-align: right;\">  mean_per_class_error</th><th style=\"text-align: right;\">    rmse</th><th style=\"text-align: right;\">     mse</th></tr>\n",
              "</thead>\n",
              "<tbody>\n",
              "<tr><td>GBM_1_AutoML_20200404_094712    </td><td style=\"text-align: right;\">0.82331 </td><td style=\"text-align: right;\"> 0.443983</td><td style=\"text-align: right;\">0.580806</td><td style=\"text-align: right;\">              0.235323</td><td style=\"text-align: right;\">0.382837</td><td style=\"text-align: right;\">0.146564</td></tr>\n",
              "<tr><td>GBM_5_AutoML_20200404_094712    </td><td style=\"text-align: right;\">0.81924 </td><td style=\"text-align: right;\"> 0.444696</td><td style=\"text-align: right;\">0.590917</td><td style=\"text-align: right;\">              0.233468</td><td style=\"text-align: right;\">0.382281</td><td style=\"text-align: right;\">0.146139</td></tr>\n",
              "<tr><td>GBM_2_AutoML_20200404_094712    </td><td style=\"text-align: right;\">0.817448</td><td style=\"text-align: right;\"> 0.45204 </td><td style=\"text-align: right;\">0.585925</td><td style=\"text-align: right;\">              0.25117 </td><td style=\"text-align: right;\">0.386813</td><td style=\"text-align: right;\">0.149625</td></tr>\n",
              "<tr><td>DRF_1_AutoML_20200404_094712    </td><td style=\"text-align: right;\">0.816488</td><td style=\"text-align: right;\"> 0.512619</td><td style=\"text-align: right;\">0.583341</td><td style=\"text-align: right;\">              0.242229</td><td style=\"text-align: right;\">0.385434</td><td style=\"text-align: right;\">0.148559</td></tr>\n",
              "<tr><td>GBM_3_AutoML_20200404_094712    </td><td style=\"text-align: right;\">0.816372</td><td style=\"text-align: right;\"> 0.454204</td><td style=\"text-align: right;\">0.597956</td><td style=\"text-align: right;\">              0.249536</td><td style=\"text-align: right;\">0.385174</td><td style=\"text-align: right;\">0.148359</td></tr>\n",
              "<tr><td>GLM_1_AutoML_20200404_094712    </td><td style=\"text-align: right;\">0.814274</td><td style=\"text-align: right;\"> 0.454063</td><td style=\"text-align: right;\">0.587811</td><td style=\"text-align: right;\">              0.239066</td><td style=\"text-align: right;\">0.385387</td><td style=\"text-align: right;\">0.148523</td></tr>\n",
              "<tr><td>XGBoost_3_AutoML_20200404_094712</td><td style=\"text-align: right;\">0.808696</td><td style=\"text-align: right;\"> 0.468659</td><td style=\"text-align: right;\">0.573964</td><td style=\"text-align: right;\">              0.238592</td><td style=\"text-align: right;\">0.389962</td><td style=\"text-align: right;\">0.15207 </td></tr>\n",
              "<tr><td>XGBoost_1_AutoML_20200404_094712</td><td style=\"text-align: right;\">0.805544</td><td style=\"text-align: right;\"> 0.480964</td><td style=\"text-align: right;\">0.569447</td><td style=\"text-align: right;\">              0.258952</td><td style=\"text-align: right;\">0.396939</td><td style=\"text-align: right;\">0.157561</td></tr>\n",
              "<tr><td>XGBoost_2_AutoML_20200404_094712</td><td style=\"text-align: right;\">0.801052</td><td style=\"text-align: right;\"> 0.474347</td><td style=\"text-align: right;\">0.577428</td><td style=\"text-align: right;\">              0.248988</td><td style=\"text-align: right;\">0.396566</td><td style=\"text-align: right;\">0.157264</td></tr>\n",
              "<tr><td>GBM_4_AutoML_20200404_094712    </td><td style=\"text-align: right;\">0.801052</td><td style=\"text-align: right;\"> 0.476668</td><td style=\"text-align: right;\">0.563595</td><td style=\"text-align: right;\">              0.270402</td><td style=\"text-align: right;\">0.396047</td><td style=\"text-align: right;\">0.156853</td></tr>\n",
              "</tbody>\n",
              "</table>"
            ]
          },
          "metadata": {
            "tags": []
          }
        },
        {
          "output_type": "execute_result",
          "data": {
            "text/plain": [
              ""
            ]
          },
          "metadata": {
            "tags": []
          },
          "execution_count": 21
        }
      ]
    },
    {
      "cell_type": "code",
      "metadata": {
        "id": "bMlxC02tjWxb",
        "colab_type": "code",
        "colab": {
          "base_uri": "https://localhost:8080/",
          "height": 34
        },
        "outputId": "7a5acf55-07a6-468c-af11-7a0b8364d765"
      },
      "source": [
        "predict_churn = aml.leader.predict(test_data)"
      ],
      "execution_count": 22,
      "outputs": [
        {
          "output_type": "stream",
          "text": [
            "gbm prediction progress: |████████████████████████████████████████████████| 100%\n"
          ],
          "name": "stdout"
        }
      ]
    },
    {
      "cell_type": "code",
      "metadata": {
        "id": "m09wL69-js6s",
        "colab_type": "code",
        "colab": {
          "base_uri": "https://localhost:8080/",
          "height": 250
        },
        "outputId": "8bd59737-bfd6-4557-ae17-587a8629aa36"
      },
      "source": [
        "predict_churn.head()"
      ],
      "execution_count": 23,
      "outputs": [
        {
          "output_type": "display_data",
          "data": {
            "text/html": [
              "<table>\n",
              "<thead>\n",
              "<tr><th>predict  </th><th style=\"text-align: right;\">      No</th><th style=\"text-align: right;\">      Yes</th></tr>\n",
              "</thead>\n",
              "<tbody>\n",
              "<tr><td>No       </td><td style=\"text-align: right;\">0.979013</td><td style=\"text-align: right;\">0.0209866</td></tr>\n",
              "<tr><td>No       </td><td style=\"text-align: right;\">0.953989</td><td style=\"text-align: right;\">0.0460112</td></tr>\n",
              "<tr><td>No       </td><td style=\"text-align: right;\">0.977166</td><td style=\"text-align: right;\">0.0228345</td></tr>\n",
              "<tr><td>Yes      </td><td style=\"text-align: right;\">0.530239</td><td style=\"text-align: right;\">0.469761 </td></tr>\n",
              "<tr><td>No       </td><td style=\"text-align: right;\">0.976182</td><td style=\"text-align: right;\">0.0238184</td></tr>\n",
              "<tr><td>Yes      </td><td style=\"text-align: right;\">0.338146</td><td style=\"text-align: right;\">0.661854 </td></tr>\n",
              "<tr><td>No       </td><td style=\"text-align: right;\">0.919762</td><td style=\"text-align: right;\">0.0802382</td></tr>\n",
              "<tr><td>No       </td><td style=\"text-align: right;\">0.973566</td><td style=\"text-align: right;\">0.0264337</td></tr>\n",
              "<tr><td>Yes      </td><td style=\"text-align: right;\">0.434289</td><td style=\"text-align: right;\">0.565711 </td></tr>\n",
              "<tr><td>No       </td><td style=\"text-align: right;\">0.980551</td><td style=\"text-align: right;\">0.0194488</td></tr>\n",
              "</tbody>\n",
              "</table>"
            ]
          },
          "metadata": {
            "tags": []
          }
        },
        {
          "output_type": "execute_result",
          "data": {
            "text/plain": [
              ""
            ]
          },
          "metadata": {
            "tags": []
          },
          "execution_count": 23
        }
      ]
    },
    {
      "cell_type": "code",
      "metadata": {
        "id": "zGnDIhZgjz-T",
        "colab_type": "code",
        "colab": {
          "base_uri": "https://localhost:8080/",
          "height": 1000
        },
        "outputId": "671eacfc-b8bb-4028-afdc-76e8d5dd96c1"
      },
      "source": [
        "aml.leader.model_performance(test_data)"
      ],
      "execution_count": 24,
      "outputs": [
        {
          "output_type": "stream",
          "text": [
            "\n",
            "ModelMetricsBinomial: gbm\n",
            "** Reported on test data. **\n",
            "\n",
            "MSE: 0.13617722014692848\n",
            "RMSE: 0.3690219778643658\n",
            "LogLoss: 0.41962366475479096\n",
            "Mean Per-Class Error: 0.23735496195634487\n",
            "AUC: 0.836189773257644\n",
            "AUCPR: 0.6460643908046944\n",
            "Gini: 0.672379546515288\n",
            "\n",
            "Confusion Matrix (Act/Pred) for max f1 @ threshold = 0.3035327229314363: \n"
          ],
          "name": "stdout"
        },
        {
          "output_type": "display_data",
          "data": {
            "text/html": [
              "<div>\n",
              "<style scoped>\n",
              "    .dataframe tbody tr th:only-of-type {\n",
              "        vertical-align: middle;\n",
              "    }\n",
              "\n",
              "    .dataframe tbody tr th {\n",
              "        vertical-align: top;\n",
              "    }\n",
              "\n",
              "    .dataframe thead th {\n",
              "        text-align: right;\n",
              "    }\n",
              "</style>\n",
              "<table border=\"1\" class=\"dataframe\">\n",
              "  <thead>\n",
              "    <tr style=\"text-align: right;\">\n",
              "      <th></th>\n",
              "      <th></th>\n",
              "      <th>No</th>\n",
              "      <th>Yes</th>\n",
              "      <th>Error</th>\n",
              "      <th>Rate</th>\n",
              "    </tr>\n",
              "  </thead>\n",
              "  <tbody>\n",
              "    <tr>\n",
              "      <th>0</th>\n",
              "      <td>No</td>\n",
              "      <td>561.0</td>\n",
              "      <td>185.0</td>\n",
              "      <td>0.248</td>\n",
              "      <td>(185.0/746.0)</td>\n",
              "    </tr>\n",
              "    <tr>\n",
              "      <th>1</th>\n",
              "      <td>Yes</td>\n",
              "      <td>56.0</td>\n",
              "      <td>191.0</td>\n",
              "      <td>0.2267</td>\n",
              "      <td>(56.0/247.0)</td>\n",
              "    </tr>\n",
              "    <tr>\n",
              "      <th>2</th>\n",
              "      <td>Total</td>\n",
              "      <td>617.0</td>\n",
              "      <td>376.0</td>\n",
              "      <td>0.2427</td>\n",
              "      <td>(241.0/993.0)</td>\n",
              "    </tr>\n",
              "  </tbody>\n",
              "</table>\n",
              "</div>"
            ],
            "text/plain": [
              "             No    Yes   Error            Rate\n",
              "0     No  561.0  185.0   0.248   (185.0/746.0)\n",
              "1    Yes   56.0  191.0  0.2267    (56.0/247.0)\n",
              "2  Total  617.0  376.0  0.2427   (241.0/993.0)"
            ]
          },
          "metadata": {
            "tags": []
          }
        },
        {
          "output_type": "stream",
          "text": [
            "\n",
            "Maximum Metrics: Maximum metrics at their respective thresholds\n"
          ],
          "name": "stdout"
        },
        {
          "output_type": "display_data",
          "data": {
            "text/html": [
              "<div>\n",
              "<style scoped>\n",
              "    .dataframe tbody tr th:only-of-type {\n",
              "        vertical-align: middle;\n",
              "    }\n",
              "\n",
              "    .dataframe tbody tr th {\n",
              "        vertical-align: top;\n",
              "    }\n",
              "\n",
              "    .dataframe thead th {\n",
              "        text-align: right;\n",
              "    }\n",
              "</style>\n",
              "<table border=\"1\" class=\"dataframe\">\n",
              "  <thead>\n",
              "    <tr style=\"text-align: right;\">\n",
              "      <th></th>\n",
              "      <th>metric</th>\n",
              "      <th>threshold</th>\n",
              "      <th>value</th>\n",
              "      <th>idx</th>\n",
              "    </tr>\n",
              "  </thead>\n",
              "  <tbody>\n",
              "    <tr>\n",
              "      <th>0</th>\n",
              "      <td>max f1</td>\n",
              "      <td>0.303533</td>\n",
              "      <td>0.613162</td>\n",
              "      <td>226.0</td>\n",
              "    </tr>\n",
              "    <tr>\n",
              "      <th>1</th>\n",
              "      <td>max f2</td>\n",
              "      <td>0.100839</td>\n",
              "      <td>0.720635</td>\n",
              "      <td>321.0</td>\n",
              "    </tr>\n",
              "    <tr>\n",
              "      <th>2</th>\n",
              "      <td>max f0point5</td>\n",
              "      <td>0.607539</td>\n",
              "      <td>0.614709</td>\n",
              "      <td>103.0</td>\n",
              "    </tr>\n",
              "    <tr>\n",
              "      <th>3</th>\n",
              "      <td>max accuracy</td>\n",
              "      <td>0.607539</td>\n",
              "      <td>0.809668</td>\n",
              "      <td>103.0</td>\n",
              "    </tr>\n",
              "    <tr>\n",
              "      <th>4</th>\n",
              "      <td>max precision</td>\n",
              "      <td>0.923959</td>\n",
              "      <td>1.000000</td>\n",
              "      <td>0.0</td>\n",
              "    </tr>\n",
              "    <tr>\n",
              "      <th>5</th>\n",
              "      <td>max recall</td>\n",
              "      <td>0.021594</td>\n",
              "      <td>1.000000</td>\n",
              "      <td>387.0</td>\n",
              "    </tr>\n",
              "    <tr>\n",
              "      <th>6</th>\n",
              "      <td>max specificity</td>\n",
              "      <td>0.923959</td>\n",
              "      <td>1.000000</td>\n",
              "      <td>0.0</td>\n",
              "    </tr>\n",
              "    <tr>\n",
              "      <th>7</th>\n",
              "      <td>max absolute_mcc</td>\n",
              "      <td>0.424831</td>\n",
              "      <td>0.472569</td>\n",
              "      <td>174.0</td>\n",
              "    </tr>\n",
              "    <tr>\n",
              "      <th>8</th>\n",
              "      <td>max min_per_class_accuracy</td>\n",
              "      <td>0.312450</td>\n",
              "      <td>0.757085</td>\n",
              "      <td>221.0</td>\n",
              "    </tr>\n",
              "    <tr>\n",
              "      <th>9</th>\n",
              "      <td>max mean_per_class_accuracy</td>\n",
              "      <td>0.303533</td>\n",
              "      <td>0.762645</td>\n",
              "      <td>226.0</td>\n",
              "    </tr>\n",
              "    <tr>\n",
              "      <th>10</th>\n",
              "      <td>max tns</td>\n",
              "      <td>0.923959</td>\n",
              "      <td>746.000000</td>\n",
              "      <td>0.0</td>\n",
              "    </tr>\n",
              "    <tr>\n",
              "      <th>11</th>\n",
              "      <td>max fns</td>\n",
              "      <td>0.923959</td>\n",
              "      <td>246.000000</td>\n",
              "      <td>0.0</td>\n",
              "    </tr>\n",
              "    <tr>\n",
              "      <th>12</th>\n",
              "      <td>max fps</td>\n",
              "      <td>0.013080</td>\n",
              "      <td>746.000000</td>\n",
              "      <td>399.0</td>\n",
              "    </tr>\n",
              "    <tr>\n",
              "      <th>13</th>\n",
              "      <td>max tps</td>\n",
              "      <td>0.021594</td>\n",
              "      <td>247.000000</td>\n",
              "      <td>387.0</td>\n",
              "    </tr>\n",
              "    <tr>\n",
              "      <th>14</th>\n",
              "      <td>max tnr</td>\n",
              "      <td>0.923959</td>\n",
              "      <td>1.000000</td>\n",
              "      <td>0.0</td>\n",
              "    </tr>\n",
              "    <tr>\n",
              "      <th>15</th>\n",
              "      <td>max fnr</td>\n",
              "      <td>0.923959</td>\n",
              "      <td>0.995951</td>\n",
              "      <td>0.0</td>\n",
              "    </tr>\n",
              "    <tr>\n",
              "      <th>16</th>\n",
              "      <td>max fpr</td>\n",
              "      <td>0.013080</td>\n",
              "      <td>1.000000</td>\n",
              "      <td>399.0</td>\n",
              "    </tr>\n",
              "    <tr>\n",
              "      <th>17</th>\n",
              "      <td>max tpr</td>\n",
              "      <td>0.021594</td>\n",
              "      <td>1.000000</td>\n",
              "      <td>387.0</td>\n",
              "    </tr>\n",
              "  </tbody>\n",
              "</table>\n",
              "</div>"
            ],
            "text/plain": [
              "                         metric  threshold       value    idx\n",
              "0                        max f1   0.303533    0.613162  226.0\n",
              "1                        max f2   0.100839    0.720635  321.0\n",
              "2                  max f0point5   0.607539    0.614709  103.0\n",
              "3                  max accuracy   0.607539    0.809668  103.0\n",
              "4                 max precision   0.923959    1.000000    0.0\n",
              "5                    max recall   0.021594    1.000000  387.0\n",
              "6               max specificity   0.923959    1.000000    0.0\n",
              "7              max absolute_mcc   0.424831    0.472569  174.0\n",
              "8    max min_per_class_accuracy   0.312450    0.757085  221.0\n",
              "9   max mean_per_class_accuracy   0.303533    0.762645  226.0\n",
              "10                      max tns   0.923959  746.000000    0.0\n",
              "11                      max fns   0.923959  246.000000    0.0\n",
              "12                      max fps   0.013080  746.000000  399.0\n",
              "13                      max tps   0.021594  247.000000  387.0\n",
              "14                      max tnr   0.923959    1.000000    0.0\n",
              "15                      max fnr   0.923959    0.995951    0.0\n",
              "16                      max fpr   0.013080    1.000000  399.0\n",
              "17                      max tpr   0.021594    1.000000  387.0"
            ]
          },
          "metadata": {
            "tags": []
          }
        },
        {
          "output_type": "stream",
          "text": [
            "\n",
            "Gains/Lift Table: Avg response rate: 24.87 %, avg score: 27.48 %\n"
          ],
          "name": "stdout"
        },
        {
          "output_type": "display_data",
          "data": {
            "text/html": [
              "<div>\n",
              "<style scoped>\n",
              "    .dataframe tbody tr th:only-of-type {\n",
              "        vertical-align: middle;\n",
              "    }\n",
              "\n",
              "    .dataframe tbody tr th {\n",
              "        vertical-align: top;\n",
              "    }\n",
              "\n",
              "    .dataframe thead th {\n",
              "        text-align: right;\n",
              "    }\n",
              "</style>\n",
              "<table border=\"1\" class=\"dataframe\">\n",
              "  <thead>\n",
              "    <tr style=\"text-align: right;\">\n",
              "      <th></th>\n",
              "      <th></th>\n",
              "      <th>group</th>\n",
              "      <th>cumulative_data_fraction</th>\n",
              "      <th>lower_threshold</th>\n",
              "      <th>lift</th>\n",
              "      <th>cumulative_lift</th>\n",
              "      <th>response_rate</th>\n",
              "      <th>score</th>\n",
              "      <th>cumulative_response_rate</th>\n",
              "      <th>cumulative_score</th>\n",
              "      <th>capture_rate</th>\n",
              "      <th>cumulative_capture_rate</th>\n",
              "      <th>gain</th>\n",
              "      <th>cumulative_gain</th>\n",
              "    </tr>\n",
              "  </thead>\n",
              "  <tbody>\n",
              "    <tr>\n",
              "      <th>0</th>\n",
              "      <td></td>\n",
              "      <td>1</td>\n",
              "      <td>0.010070</td>\n",
              "      <td>0.879473</td>\n",
              "      <td>3.216194</td>\n",
              "      <td>3.216194</td>\n",
              "      <td>0.800000</td>\n",
              "      <td>0.896557</td>\n",
              "      <td>0.800000</td>\n",
              "      <td>0.896557</td>\n",
              "      <td>0.032389</td>\n",
              "      <td>0.032389</td>\n",
              "      <td>221.619433</td>\n",
              "      <td>221.619433</td>\n",
              "    </tr>\n",
              "    <tr>\n",
              "      <th>1</th>\n",
              "      <td></td>\n",
              "      <td>2</td>\n",
              "      <td>0.020141</td>\n",
              "      <td>0.863142</td>\n",
              "      <td>3.618219</td>\n",
              "      <td>3.417206</td>\n",
              "      <td>0.900000</td>\n",
              "      <td>0.873367</td>\n",
              "      <td>0.850000</td>\n",
              "      <td>0.884962</td>\n",
              "      <td>0.036437</td>\n",
              "      <td>0.068826</td>\n",
              "      <td>261.821862</td>\n",
              "      <td>241.720648</td>\n",
              "    </tr>\n",
              "    <tr>\n",
              "      <th>2</th>\n",
              "      <td></td>\n",
              "      <td>3</td>\n",
              "      <td>0.030211</td>\n",
              "      <td>0.846232</td>\n",
              "      <td>4.020243</td>\n",
              "      <td>3.618219</td>\n",
              "      <td>1.000000</td>\n",
              "      <td>0.855511</td>\n",
              "      <td>0.900000</td>\n",
              "      <td>0.875145</td>\n",
              "      <td>0.040486</td>\n",
              "      <td>0.109312</td>\n",
              "      <td>302.024291</td>\n",
              "      <td>261.821862</td>\n",
              "    </tr>\n",
              "    <tr>\n",
              "      <th>3</th>\n",
              "      <td></td>\n",
              "      <td>4</td>\n",
              "      <td>0.040282</td>\n",
              "      <td>0.827552</td>\n",
              "      <td>3.618219</td>\n",
              "      <td>3.618219</td>\n",
              "      <td>0.900000</td>\n",
              "      <td>0.835895</td>\n",
              "      <td>0.900000</td>\n",
              "      <td>0.865333</td>\n",
              "      <td>0.036437</td>\n",
              "      <td>0.145749</td>\n",
              "      <td>261.821862</td>\n",
              "      <td>261.821862</td>\n",
              "    </tr>\n",
              "    <tr>\n",
              "      <th>4</th>\n",
              "      <td></td>\n",
              "      <td>5</td>\n",
              "      <td>0.050352</td>\n",
              "      <td>0.811441</td>\n",
              "      <td>3.618219</td>\n",
              "      <td>3.618219</td>\n",
              "      <td>0.900000</td>\n",
              "      <td>0.820347</td>\n",
              "      <td>0.900000</td>\n",
              "      <td>0.856336</td>\n",
              "      <td>0.036437</td>\n",
              "      <td>0.182186</td>\n",
              "      <td>261.821862</td>\n",
              "      <td>261.821862</td>\n",
              "    </tr>\n",
              "    <tr>\n",
              "      <th>5</th>\n",
              "      <td></td>\n",
              "      <td>6</td>\n",
              "      <td>0.100705</td>\n",
              "      <td>0.714358</td>\n",
              "      <td>2.412146</td>\n",
              "      <td>3.015182</td>\n",
              "      <td>0.600000</td>\n",
              "      <td>0.757385</td>\n",
              "      <td>0.750000</td>\n",
              "      <td>0.806860</td>\n",
              "      <td>0.121457</td>\n",
              "      <td>0.303644</td>\n",
              "      <td>141.214575</td>\n",
              "      <td>201.518219</td>\n",
              "    </tr>\n",
              "    <tr>\n",
              "      <th>6</th>\n",
              "      <td></td>\n",
              "      <td>7</td>\n",
              "      <td>0.150050</td>\n",
              "      <td>0.640321</td>\n",
              "      <td>2.051144</td>\n",
              "      <td>2.698150</td>\n",
              "      <td>0.510204</td>\n",
              "      <td>0.676460</td>\n",
              "      <td>0.671141</td>\n",
              "      <td>0.763977</td>\n",
              "      <td>0.101215</td>\n",
              "      <td>0.404858</td>\n",
              "      <td>105.114434</td>\n",
              "      <td>169.814961</td>\n",
              "    </tr>\n",
              "    <tr>\n",
              "      <th>7</th>\n",
              "      <td></td>\n",
              "      <td>8</td>\n",
              "      <td>0.200403</td>\n",
              "      <td>0.557152</td>\n",
              "      <td>2.090526</td>\n",
              "      <td>2.545480</td>\n",
              "      <td>0.520000</td>\n",
              "      <td>0.592325</td>\n",
              "      <td>0.633166</td>\n",
              "      <td>0.720848</td>\n",
              "      <td>0.105263</td>\n",
              "      <td>0.510121</td>\n",
              "      <td>109.052632</td>\n",
              "      <td>154.548044</td>\n",
              "    </tr>\n",
              "    <tr>\n",
              "      <th>8</th>\n",
              "      <td></td>\n",
              "      <td>9</td>\n",
              "      <td>0.300101</td>\n",
              "      <td>0.404023</td>\n",
              "      <td>1.624341</td>\n",
              "      <td>2.239464</td>\n",
              "      <td>0.404040</td>\n",
              "      <td>0.484488</td>\n",
              "      <td>0.557047</td>\n",
              "      <td>0.642326</td>\n",
              "      <td>0.161943</td>\n",
              "      <td>0.672065</td>\n",
              "      <td>62.434057</td>\n",
              "      <td>123.946417</td>\n",
              "    </tr>\n",
              "    <tr>\n",
              "      <th>9</th>\n",
              "      <td></td>\n",
              "      <td>10</td>\n",
              "      <td>0.399799</td>\n",
              "      <td>0.275381</td>\n",
              "      <td>1.137038</td>\n",
              "      <td>1.964552</td>\n",
              "      <td>0.282828</td>\n",
              "      <td>0.334125</td>\n",
              "      <td>0.488665</td>\n",
              "      <td>0.565470</td>\n",
              "      <td>0.113360</td>\n",
              "      <td>0.785425</td>\n",
              "      <td>13.703840</td>\n",
              "      <td>96.455195</td>\n",
              "    </tr>\n",
              "    <tr>\n",
              "      <th>10</th>\n",
              "      <td></td>\n",
              "      <td>11</td>\n",
              "      <td>0.500504</td>\n",
              "      <td>0.154017</td>\n",
              "      <td>0.603036</td>\n",
              "      <td>1.690605</td>\n",
              "      <td>0.150000</td>\n",
              "      <td>0.211123</td>\n",
              "      <td>0.420523</td>\n",
              "      <td>0.494173</td>\n",
              "      <td>0.060729</td>\n",
              "      <td>0.846154</td>\n",
              "      <td>-39.696356</td>\n",
              "      <td>69.060517</td>\n",
              "    </tr>\n",
              "    <tr>\n",
              "      <th>11</th>\n",
              "      <td></td>\n",
              "      <td>12</td>\n",
              "      <td>0.600201</td>\n",
              "      <td>0.095880</td>\n",
              "      <td>0.730953</td>\n",
              "      <td>1.531200</td>\n",
              "      <td>0.181818</td>\n",
              "      <td>0.123805</td>\n",
              "      <td>0.380872</td>\n",
              "      <td>0.432652</td>\n",
              "      <td>0.072874</td>\n",
              "      <td>0.919028</td>\n",
              "      <td>-26.904674</td>\n",
              "      <td>53.119990</td>\n",
              "    </tr>\n",
              "    <tr>\n",
              "      <th>12</th>\n",
              "      <td></td>\n",
              "      <td>13</td>\n",
              "      <td>0.699899</td>\n",
              "      <td>0.049338</td>\n",
              "      <td>0.487302</td>\n",
              "      <td>1.382501</td>\n",
              "      <td>0.121212</td>\n",
              "      <td>0.070931</td>\n",
              "      <td>0.343885</td>\n",
              "      <td>0.381126</td>\n",
              "      <td>0.048583</td>\n",
              "      <td>0.967611</td>\n",
              "      <td>-51.269783</td>\n",
              "      <td>38.250080</td>\n",
              "    </tr>\n",
              "    <tr>\n",
              "      <th>13</th>\n",
              "      <td></td>\n",
              "      <td>14</td>\n",
              "      <td>0.799597</td>\n",
              "      <td>0.029066</td>\n",
              "      <td>0.243651</td>\n",
              "      <td>1.240503</td>\n",
              "      <td>0.060606</td>\n",
              "      <td>0.037769</td>\n",
              "      <td>0.308564</td>\n",
              "      <td>0.338315</td>\n",
              "      <td>0.024291</td>\n",
              "      <td>0.991903</td>\n",
              "      <td>-75.634891</td>\n",
              "      <td>24.050317</td>\n",
              "    </tr>\n",
              "    <tr>\n",
              "      <th>14</th>\n",
              "      <td></td>\n",
              "      <td>15</td>\n",
              "      <td>0.899295</td>\n",
              "      <td>0.021644</td>\n",
              "      <td>0.081217</td>\n",
              "      <td>1.111982</td>\n",
              "      <td>0.020202</td>\n",
              "      <td>0.024778</td>\n",
              "      <td>0.276596</td>\n",
              "      <td>0.303555</td>\n",
              "      <td>0.008097</td>\n",
              "      <td>1.000000</td>\n",
              "      <td>-91.878297</td>\n",
              "      <td>11.198208</td>\n",
              "    </tr>\n",
              "    <tr>\n",
              "      <th>15</th>\n",
              "      <td></td>\n",
              "      <td>16</td>\n",
              "      <td>1.000000</td>\n",
              "      <td>0.013080</td>\n",
              "      <td>0.000000</td>\n",
              "      <td>1.000000</td>\n",
              "      <td>0.000000</td>\n",
              "      <td>0.018444</td>\n",
              "      <td>0.248741</td>\n",
              "      <td>0.274843</td>\n",
              "      <td>0.000000</td>\n",
              "      <td>1.000000</td>\n",
              "      <td>-100.000000</td>\n",
              "      <td>0.000000</td>\n",
              "    </tr>\n",
              "  </tbody>\n",
              "</table>\n",
              "</div>"
            ],
            "text/plain": [
              "      group  ...        gain  cumulative_gain\n",
              "0         1  ...  221.619433       221.619433\n",
              "1         2  ...  261.821862       241.720648\n",
              "2         3  ...  302.024291       261.821862\n",
              "3         4  ...  261.821862       261.821862\n",
              "4         5  ...  261.821862       261.821862\n",
              "5         6  ...  141.214575       201.518219\n",
              "6         7  ...  105.114434       169.814961\n",
              "7         8  ...  109.052632       154.548044\n",
              "8         9  ...   62.434057       123.946417\n",
              "9        10  ...   13.703840        96.455195\n",
              "10       11  ...  -39.696356        69.060517\n",
              "11       12  ...  -26.904674        53.119990\n",
              "12       13  ...  -51.269783        38.250080\n",
              "13       14  ...  -75.634891        24.050317\n",
              "14       15  ...  -91.878297        11.198208\n",
              "15       16  ... -100.000000         0.000000\n",
              "\n",
              "[16 rows x 14 columns]"
            ]
          },
          "metadata": {
            "tags": []
          }
        },
        {
          "output_type": "stream",
          "text": [
            "\n"
          ],
          "name": "stdout"
        },
        {
          "output_type": "execute_result",
          "data": {
            "text/plain": [
              ""
            ]
          },
          "metadata": {
            "tags": []
          },
          "execution_count": 24
        }
      ]
    }
  ]
}